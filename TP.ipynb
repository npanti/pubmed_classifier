{
  "nbformat": 4,
  "nbformat_minor": 0,
  "metadata": {
    "colab": {
      "name": "Untitled1.ipynb",
      "provenance": [],
      "authorship_tag": "ABX9TyOkN+YY7Xz+vuLnNYM0usTH",
      "include_colab_link": true
    },
    "kernelspec": {
      "name": "python3",
      "display_name": "Python 3"
    },
    "accelerator": "GPU"
  },
  "cells": [
    {
      "cell_type": "markdown",
      "metadata": {
        "id": "view-in-github",
        "colab_type": "text"
      },
      "source": [
        "<a href=\"https://colab.research.google.com/github/npanti/pubmed_classifier/blob/main/TP.ipynb\" target=\"_parent\"><img src=\"https://colab.research.google.com/assets/colab-badge.svg\" alt=\"Open In Colab\"/></a>"
      ]
    },
    {
      "cell_type": "markdown",
      "metadata": {
        "id": "4_gqyIBlDEvm"
      },
      "source": [
        "# **Setup**\n",
        "Téléchargement du dataset et chargements des packages python\n",
        "\n"
      ]
    },
    {
      "cell_type": "code",
      "metadata": {
        "id": "CjlghOFhBkYS",
        "outputId": "d8c1b92e-cb45-4773-ad93-a173b6699119",
        "colab": {
          "base_uri": "https://localhost:8080/"
        }
      },
      "source": [
        "\n",
        "!git clone https://github.com/aneuraz/intro-keras.git\n",
        "\n",
        "%tensorflow_version 2.x\n",
        "import json \n",
        "import tensorflow as tf\n",
        "import numpy as np"
      ],
      "execution_count": 1,
      "outputs": [
        {
          "output_type": "stream",
          "text": [
            "Cloning into 'intro-keras'...\n",
            "remote: Enumerating objects: 18, done.\u001b[K\n",
            "remote: Counting objects: 100% (18/18), done.\u001b[K\n",
            "remote: Compressing objects: 100% (16/16), done.\u001b[K\n",
            "remote: Total 18 (delta 5), reused 0 (delta 0), pack-reused 0\u001b[K\n",
            "Unpacking objects: 100% (18/18), done.\n"
          ],
          "name": "stdout"
        }
      ]
    },
    {
      "cell_type": "markdown",
      "metadata": {
        "id": "o8V0XQ-GDwE8"
      },
      "source": [
        "Préparation des données et des variables de training et validation\n",
        "\n",
        "Les données sont structurées de la sorte:\n",
        "\n",
        "\n",
        "```\n",
        "{'Cat_2013': 'C',\n",
        " 'Cat_2014': 'C',\n",
        " 'Cat_2015': 'C',\n",
        " 'Cat_2016': 'C',\n",
        " 'Cat_2017': 'B',\n",
        " 'Disciplines': ['XQ'],\n",
        " 'ESSN': '1873-3557',\n",
        " 'IF_2013': '2.129',\n",
        " 'IF_2014': '2.353',\n",
        " 'IF_2015': '2.653',\n",
        " 'IF_2016': '2.536',\n",
        " 'IF_2017': '2.88',\n",
        " 'ISSN': '1386-1425',\n",
        " 'ISSN_online': '1873-3557',\n",
        " 'ISSN_print': '1386-1425',\n",
        " 'IsoAbbr': 'Spectrochim Acta A Mol Biomol Spectrosc',\n",
        " 'JrId': 20555,\n",
        " 'MedAbbr': 'Spectrochim Acta A Mol Biomol Spectrosc',\n",
        " 'NLMid': '9602533',\n",
        " 'Titre': 'Spectrochim Acta A Mol Biomol Spectrosc',\n",
        " 'abstract': 'In this research, ZnO nanoparticle loaded on activated carbon (ZnO-NPs-AC) was synthesized simply by a low cost and nontoxic procedure. The characterization and identification have been completed by different techniques such as SEM and XRD analysis. A three layer artificial neural network (ANN) model is applicable for accurate prediction of dye removal percentage from aqueous solution by ZnO-NRs-AC following conduction of 270 experimental data. The network was trained using the obtained experimental data at optimum pH with different ZnO-NRs-AC amount (0.005-0.015 g) and 5-40 mg/L of sunset yellow dye over contact time of 0.5-30 min. The ANN model was applied for prediction of the removal percentage of present systems with Levenberg-Marquardt algorithm (LMA), a linear transfer function (purelin) at output layer and a tangent sigmoid transfer function (tansig) in the hidden layer with 6 neurons. The minimum mean squared error (MSE) of 0.0008 and coefficient of determination (R(2)) of 0.998 were found for prediction and modeling of SY removal. The influence of parameters including adsorbent amount, initial dye concentration, pH and contact time on sunset yellow (SY) removal percentage were investigated and optimal experimental conditions were ascertained. Optimal conditions were set as follows: pH, 2.0; 10 min contact time; an adsorbent dose of 0.015 g. Equilibrium data fitted truly with the Langmuir model with maximum adsorption capacity of 142.85 mg/g for 0.005 g adsorbent. The adsorption of sunset yellow followed the pseudo-second-order rate equation.',\n",
        " 'authors': ['Maghsoudi, M',\n",
        "  'Ghaedi, M',\n",
        "  'Zinali, A',\n",
        "  'Ghaedi, A M',\n",
        "  'Habibi, M H'],\n",
        " 'categories': ['SPECTROSCOPY'],\n",
        " 'journal': 'Spectrochimica acta. Part A, Molecular and biomolecular spectroscopy',\n",
        " 'keywords': ['Adsorption',\n",
        "  'Algorithms',\n",
        "  'Azo Compounds',\n",
        "  'Charcoal',\n",
        "  'Coloring Agents',\n",
        "  'Hydrogen-Ion Concentration',\n",
        "  'Kinetics',\n",
        "  'Microscopy, Electron, Scanning',\n",
        "  'Nanotubes',\n",
        "  'Neural Networks (Computer)',\n",
        "  'Time Factors',\n",
        "  'Water Pollutants, Chemical',\n",
        "  'X-Ray Diffraction',\n",
        "  'Zinc Oxide'],\n",
        " 'pmid': '24995412',\n",
        " 'title': 'Artificial neural network (ANN) method for modeling of sunset yellow dye adsorption using zinc oxide nanorods loaded on activated carbon: Kinetic and isotherm study.',\n",
        " 'year': '2015'}\n",
        "```\n",
        "\n"
      ]
    },
    {
      "cell_type": "code",
      "metadata": {
        "id": "ONNLje2pD1oQ"
      },
      "source": [
        "with open('/content/intro-keras/ai_pub_samp.json','r') as f:\n",
        "  data = json.load(f)\n",
        "\n",
        "#Chargement des titres et des abstract et transformation du texte en miniscule\n",
        "X_title = [ x['title'].lower() for x in data ] \n",
        "X_abstract = [ x['abstract'].lower() for x in data ] \n",
        "\n",
        "# Chargmeent des catégories SIGAPS (QUESTION: on travaille sur quelle année?)\n",
        "Y = [ y['Cat_2013'] for y in data ]"
      ],
      "execution_count": 5,
      "outputs": []
    }
  ]
}