{
  "nbformat": 4,
  "nbformat_minor": 0,
  "metadata": {
    "colab": {
      "name": "Untitled1.ipynb",
      "provenance": [],
      "authorship_tag": "ABX9TyM1PYDireq74sH/btPMxtPS",
      "include_colab_link": true
    },
    "kernelspec": {
      "name": "python3",
      "display_name": "Python 3"
    }
  },
  "cells": [
    {
      "cell_type": "markdown",
      "metadata": {
        "id": "view-in-github",
        "colab_type": "text"
      },
      "source": [
        "<a href=\"https://colab.research.google.com/github/npanti/pubmed_classifier/blob/main/TP.ipynb\" target=\"_parent\"><img src=\"https://colab.research.google.com/assets/colab-badge.svg\" alt=\"Open In Colab\"/></a>"
      ]
    },
    {
      "cell_type": "markdown",
      "metadata": {
        "id": "4_gqyIBlDEvm"
      },
      "source": [
        "# **Setup**\n",
        "Téléchargement du dataset et chargements des packages python\n",
        "\n"
      ]
    },
    {
      "cell_type": "code",
      "metadata": {
        "id": "CjlghOFhBkYS",
        "colab": {
          "base_uri": "https://localhost:8080/"
        },
        "outputId": "14aab4fb-867f-4f75-b76f-7db96395e63b"
      },
      "source": [
        "\n",
        "!git clone https://github.com/aneuraz/intro-keras.git\n",
        "\n",
        "%tensorflow_version 2.x\n",
        "import json \n",
        "import tensorflow as tf\n",
        "import numpy as np\n",
        "from sklearn.model_selection import train_test_split\n",
        "import matplotlib.pyplot as plt\n",
        "\n",
        "# Fonction \n",
        "def plot_history(history):\n",
        "    acc = history.history['accuracy']\n",
        "    val_acc = history.history['val_accuracy']\n",
        "    loss = history.history['loss']\n",
        "    val_loss = history.history['val_loss']\n",
        "    x = range(1, len(acc) + 1)\n",
        "\n",
        "    plt.figure(figsize=(12, 5))\n",
        "    plt.subplot(1, 2, 1)\n",
        "    plt.plot(x, acc, 'b', label='Training acc')\n",
        "    plt.plot(x, val_acc, 'r', label='Validation acc')\n",
        "    plt.title('Training and validation accuracy')\n",
        "    plt.legend()\n",
        "    plt.subplot(1, 2, 2)\n",
        "    plt.plot(x, loss, 'b', label='Training loss')\n",
        "    plt.plot(x, val_loss, 'r', label='Validation loss')\n",
        "    plt.title('Training and validation loss')\n",
        "    plt.legend()\n",
        "\n",
        "def load_glove_embeddings(fp, embedding_dim, include_empty_char=True):\n",
        "    \"\"\"\n",
        "    Loads pre-trained word embeddings (GloVe embeddings)\n",
        "        Inputs: - fp: filepath of pre-trained glove embeddings\n",
        "                - embedding_dim: dimension of each vector embedding\n",
        "                - generate_matrix: whether to generate an embedding matrix\n",
        "        Outputs:\n",
        "                - word2coefs: Dictionary. Word to its corresponding coefficients\n",
        "                - word2index: Dictionary. Word to word-index\n",
        "                - embedding_matrix: Embedding matrix for Keras Embedding layer\n",
        "    \"\"\"\n",
        "    # First, build the \"word2coefs\" and \"word2index\"\n",
        "    word2coefs = {} # word to its corresponding coefficients\n",
        "    word2index = {} # word to word-index\n",
        "    with open(fp) as f:\n",
        "        for idx, line in enumerate(f):\n",
        "            try:\n",
        "                data = [x.strip().lower() for x in line.split()]\n",
        "                word = data[0]\n",
        "                coefs = np.asarray(data[1:embedding_dim+1], dtype='float32')\n",
        "                word2coefs[word] = coefs\n",
        "                if word not in word2index:\n",
        "                    word2index[word] = len(word2index)\n",
        "            except Exception as e:\n",
        "                print('Exception occurred in `load_glove_embeddings`:', e)\n",
        "                continue\n",
        "        # End of for loop.\n",
        "    # End of with open\n",
        "    if include_empty_char:\n",
        "        word2index[''] = len(word2index)\n",
        "    # Second, build the \"embedding_matrix\"\n",
        "    # Words not found in embedding index will be all-zeros. Hence, the \"+1\".\n",
        "    vocab_size = len(word2coefs)+1 if include_empty_char else len(word2coefs)\n",
        "    embedding_matrix = np.zeros((vocab_size, embedding_dim))\n",
        "    for word, idx in word2index.items():\n",
        "        embedding_vec = word2coefs.get(word)\n",
        "        if embedding_vec is not None and embedding_vec.shape[0]==embedding_dim:\n",
        "            embedding_matrix[idx] = np.asarray(embedding_vec)\n",
        "    # return word2coefs, word2index, embedding_matrix\n",
        "    return word2index, np.asarray(embedding_matrix)"
      ],
      "execution_count": 83,
      "outputs": [
        {
          "output_type": "stream",
          "text": [
            "fatal: destination path 'intro-keras' already exists and is not an empty directory.\n"
          ],
          "name": "stdout"
        }
      ]
    },
    {
      "cell_type": "markdown",
      "metadata": {
        "id": "o8V0XQ-GDwE8"
      },
      "source": [
        "Préparation des données et des variables de training et validation\n",
        "\n",
        "Les données sont structurées de la sorte:\n",
        "\n",
        "\n",
        "```\n",
        "{'Cat_2013': 'C',\n",
        " 'Cat_2014': 'C',\n",
        " 'Cat_2015': 'C',\n",
        " 'Cat_2016': 'C',\n",
        " 'Cat_2017': 'B',\n",
        " 'Disciplines': ['XQ'],\n",
        " 'ESSN': '1873-3557',\n",
        " 'IF_2013': '2.129',\n",
        " 'IF_2014': '2.353',\n",
        " 'IF_2015': '2.653',\n",
        " 'IF_2016': '2.536',\n",
        " 'IF_2017': '2.88',\n",
        " 'ISSN': '1386-1425',\n",
        " 'ISSN_online': '1873-3557',\n",
        " 'ISSN_print': '1386-1425',\n",
        " 'IsoAbbr': 'Spectrochim Acta A Mol Biomol Spectrosc',\n",
        " 'JrId': 20555,\n",
        " 'MedAbbr': 'Spectrochim Acta A Mol Biomol Spectrosc',\n",
        " 'NLMid': '9602533',\n",
        " 'Titre': 'Spectrochim Acta A Mol Biomol Spectrosc',\n",
        " 'abstract': 'In this research, ZnO nanoparticle loaded on activated carbon (ZnO-NPs-AC) was synthesized simply by a low cost and nontoxic procedure. The characterization and identification have been completed by different techniques such as SEM and XRD analysis. A three layer artificial neural network (ANN) model is applicable for accurate prediction of dye removal percentage from aqueous solution by ZnO-NRs-AC following conduction of 270 experimental data. The network was trained using the obtained experimental data at optimum pH with different ZnO-NRs-AC amount (0.005-0.015 g) and 5-40 mg/L of sunset yellow dye over contact time of 0.5-30 min. The ANN model was applied for prediction of the removal percentage of present systems with Levenberg-Marquardt algorithm (LMA), a linear transfer function (purelin) at output layer and a tangent sigmoid transfer function (tansig) in the hidden layer with 6 neurons. The minimum mean squared error (MSE) of 0.0008 and coefficient of determination (R(2)) of 0.998 were found for prediction and modeling of SY removal. The influence of parameters including adsorbent amount, initial dye concentration, pH and contact time on sunset yellow (SY) removal percentage were investigated and optimal experimental conditions were ascertained. Optimal conditions were set as follows: pH, 2.0; 10 min contact time; an adsorbent dose of 0.015 g. Equilibrium data fitted truly with the Langmuir model with maximum adsorption capacity of 142.85 mg/g for 0.005 g adsorbent. The adsorption of sunset yellow followed the pseudo-second-order rate equation.',\n",
        " 'authors': ['Maghsoudi, M',\n",
        "  'Ghaedi, M',\n",
        "  'Zinali, A',\n",
        "  'Ghaedi, A M',\n",
        "  'Habibi, M H'],\n",
        " 'categories': ['SPECTROSCOPY'],\n",
        " 'journal': 'Spectrochimica acta. Part A, Molecular and biomolecular spectroscopy',\n",
        " 'keywords': ['Adsorption',\n",
        "  'Algorithms',\n",
        "  'Azo Compounds',\n",
        "  'Charcoal',\n",
        "  'Coloring Agents',\n",
        "  'Hydrogen-Ion Concentration',\n",
        "  'Kinetics',\n",
        "  'Microscopy, Electron, Scanning',\n",
        "  'Nanotubes',\n",
        "  'Neural Networks (Computer)',\n",
        "  'Time Factors',\n",
        "  'Water Pollutants, Chemical',\n",
        "  'X-Ray Diffraction',\n",
        "  'Zinc Oxide'],\n",
        " 'pmid': '24995412',\n",
        " 'title': 'Artificial neural network (ANN) method for modeling of sunset yellow dye adsorption using zinc oxide nanorods loaded on activated carbon: Kinetic and isotherm study.',\n",
        " 'year': '2015'}\n",
        "```\n",
        "\n"
      ]
    },
    {
      "cell_type": "code",
      "metadata": {
        "id": "ONNLje2pD1oQ"
      },
      "source": [
        "with open('/content/intro-keras/ai_pub_samp.json','r') as f:\n",
        "  data = json.load(f)\n",
        "\n",
        "# Chargement des titres et des abstract et transformation du texte en miniscule\n",
        "X_title = [ x['title'].lower() for x in data ] \n",
        "X_abstract = [ x['abstract'].lower() for x in data ] \n",
        "\n",
        "# Calcul des longeurs max\n",
        "max_len_title = len(max(X_title, key=len))\n",
        "max_len_abstract = len(max(X_abstract, key=len))\n",
        "\n",
        "# Chargmeent des catégories SIGAPS (QUESTION: on travaille sur quelle année?)\n",
        "Y = [ y['Cat_2013'] for y in data ]"
      ],
      "execution_count": 71,
      "outputs": []
    },
    {
      "cell_type": "markdown",
      "metadata": {
        "id": "UVHCTClZHXUW"
      },
      "source": [
        "Distribution des catégories\n",
        "On remarque qu'il y a quelques données qui n'ont pas de catégorie assignée. Il faut les retirer des données. Ces entrées ne serve à rien et vont générer de la confusion pour le réseau neuronal."
      ]
    },
    {
      "cell_type": "code",
      "metadata": {
        "id": "k2OPKt2vHcqF",
        "outputId": "b90be3e3-d8de-4d09-aaf6-83d647662219",
        "colab": {
          "base_uri": "https://localhost:8080/",
          "height": 300
        }
      },
      "source": [
        "plt.hist(Y)\n",
        "plt.title('Distribution des catégories SIGAPS')\n",
        "plt.xlabel('Catégories SIGAPS')\n",
        "plt.ylabel('Occurence')\n",
        "plt.show()"
      ],
      "execution_count": 77,
      "outputs": [
        {
          "output_type": "display_data",
          "data": {
            "image/png": "[encoded data removed]",
            "text/plain": [
              "<Figure size 432x288 with 1 Axes>"
            ]
          },
          "metadata": {
            "tags": []
          }
        }
      ]
    },
    {
      "cell_type": "code",
      "metadata": {
        "id": "cJZfL9_4LMVO",
        "outputId": "923d1976-1d13-4f6d-9b8b-460e30dc7d13",
        "colab": {
          "base_uri": "https://localhost:8080/",
          "height": 300
        }
      },
      "source": [
        "# Suppression des données sans catégorie\n",
        "id_nc = [i for i, x in enumerate(Y) if x == \"NC\"]\n",
        "\n",
        "# La liste est parcourue en sens inverse car si ce n'est pas le cas, l'ordre des données n'est pas préservée.\n",
        "for i in reversed(id_nc):\n",
        "  del X_title[i]\n",
        "  del X_abstract[i]\n",
        "  del Y[i]\n",
        "\n",
        "#Vérifiction \n",
        "plt.hist(Y, align='mid')\n",
        "plt.title('Distribution des catégories SIGAPS')\n",
        "plt.xlabel('Catégories SIGAPS')\n",
        "plt.ylabel('Occurence')\n",
        "plt.show()"
      ],
      "execution_count": 79,
      "outputs": [
        {
          "output_type": "display_data",
          "data": {
            "image/png": "[encoded data removed]",
            "text/plain": [
              "<Figure size 432x288 with 1 Axes>"
            ]
          },
          "metadata": {
            "tags": []
          }
        }
      ]
    },
    {
      "cell_type": "markdown",
      "metadata": {
        "id": "F9RdXHDfPzq4"
      },
      "source": [
        "Diviser les données en set de training, validation et test. Dans ce cas, le set de validation est le même que le set de test.\n",
        "Il y a deux techniques: soit on fait le split soit même ou on le fait aléatoirement avec scikit-learn"
      ]
    },
    {
      "cell_type": "code",
      "metadata": {
        "id": "PWRp4kO6Qfir"
      },
      "source": [
        "# Creation d'un array 2D avec les titres et les abstract (10000x2). Première pour les titres, deuxième pour les abstract.\n",
        "# Cette solution permet de faire le data splitting plus facilement\n",
        "X = np.column_stack((X_title, X_abstract)) \n",
        "\n",
        "# Split des données\n",
        "X_train, X_test, Y_train, Y_test = train_test_split(X,Y, test_size = 0.2, random_state = 21)\n",
        "\n",
        "# Séparation des données\n",
        "X_title_train = X_train[:,0]\n",
        "X_abstract_train = X_train[:,1]\n",
        "X_title_test = X_test[:,0]\n",
        "X_abstract_test = X_test[:,1]"
      ],
      "execution_count": 87,
      "outputs": []
    },
    {
      "cell_type": "code",
      "metadata": {
        "id": "8bfiz0rxgjtX"
      },
      "source": [
        "# Transformer les catégories en numéro\n",
        "cat_to_id = {'<UNK>':0}\n",
        "\n",
        "for cat in Y_train: \n",
        "  if cat not in cat_to_id.keys(): \n",
        "    cat_to_id[cat] = len(cat_to_id)\n",
        "\n",
        "id_to_cat = { v: k for k,v in cat_to_id.items()}\n",
        "# Calcule le nombre de catégories\n",
        "num_cat = len(cat_to_id)\n",
        "\n",
        "def preprocess_Y(Y, cat_to_id): \n",
        "  \"\"\"returns list of cat_ids for Y\n",
        "  \"\"\"\n",
        "  res = []\n",
        "  for ex in Y: \n",
        "    if ex not in cat_to_id.keys(): \n",
        "      res.append(cat_to_id['<UNK>'])\n",
        "    else:\n",
        "      res.append(cat_to_id[ex])\n",
        "  return np.array(res)\n",
        "\n",
        "Y_train_id = preprocess_Y(Y_train, cat_to_id)\n",
        "Y_test_id = preprocess_Y(Y_test, cat_to_id)"
      ],
      "execution_count": 82,
      "outputs": []
    },
    {
      "cell_type": "markdown",
      "metadata": {
        "id": "JrnpZJtmip49"
      },
      "source": [
        "# Neural Network\n",
        "On commence par spécifier les paramètres"
      ]
    },
    {
      "cell_type": "code",
      "metadata": {
        "id": "U7DXCnCJixXx"
      },
      "source": [
        "vocab_size = 10000\n",
        "use_glove = False\n",
        "embedding_model = 'glove.6B.100d.txt'\n",
        "embedding_dim = 50"
      ],
      "execution_count": 98,
      "outputs": []
    },
    {
      "cell_type": "markdown",
      "metadata": {
        "id": "fyXqaLmght7s"
      },
      "source": [
        "### **Tokenization des entrées**\n",
        "Soit on utilise Tokenizer de Keras ou alors on utilise Glove"
      ]
    },
    {
      "cell_type": "code",
      "metadata": {
        "id": "EeT7a-OXh5Do"
      },
      "source": [
        "if not use_glove:\n",
        "  tokenizer_title = tf.keras.preprocessing.text.Tokenizer(num_words = vocab_size)\n",
        "  tokenizer_abstract = tf.keras.preprocessing.text.Tokenizer(num_words = vocab_size)\n",
        "  # Entrainer le tokenizer sur le train set \n",
        "  tokenizer_title.fit_on_texts(X_title_train)\n",
        "  tokenizer_abstract.fit_on_texts(X_abstract_train)\n",
        "\n",
        "  # Transformer les textes en vecteurs numeriques à l'aide du tokenizer\n",
        "  X_title_train_seq = tokenizer_title.texts_to_sequences(X_title_train)\n",
        "  X_title_test_seq = tokenizer_title.texts_to_sequences(X_title_test)\n",
        "  X_abstract_train_seq = tokenizer_abstract.texts_to_sequences(X_abstract_train)\n",
        "  X_abstract_test_seq = tokenizer_abstract.texts_to_sequences(X_abstract_test)\n",
        "\n",
        "else:\n",
        "  # Charger les embeddings à l'aide de la fonction load_glove_embeddings\n",
        "  word2index, embedding_matrix = load_glove_embeddings(embedding_model, embedding_dim)\n",
        "  # ecrire une fonction de tokenization custom pour preprocesser les textes\n",
        "  import re \n",
        "  def custom_tokenizer(input, word2index):\n",
        "\n",
        "    # Split words\n",
        "    res = []\n",
        "    for t in input:\n",
        "      words = re.findall(r'\\w+', t)\n",
        "      index = []\n",
        "      for i in words:\n",
        "        if i in word2index.keys():\n",
        "          index.append(word2index[i])\n",
        "      res.append(index)\n",
        "\n",
        "    return res\n",
        "\n",
        "  # Encoder les textes avec la fonction custom\n",
        "  X_title_train_seq = custom_tokenizer(X_title_train, word2index)\n",
        "  X_title_test_seq = custom_tokenizer(X_title_test, word2index)\n",
        "  X_abstract_train_seq = custom_tokenizer(X_abstract_train, word2index)\n",
        "  X_abstract_test_seq = custom_tokenizer(X_abstract_test, word2index)\n",
        "\n",
        "# Padding\n",
        "max_len_title = max([len(x) for x in X_title_train_seq])\n",
        "max_len_abstract = max([len(x) for x in X_abstract_train_seq])\n",
        "\n",
        "X_title_train_pad = tf.keras.preprocessing.sequence.pad_sequences(X_title_train_seq, maxlen=max_len_title, truncating='post')\n",
        "X_title_test_pad = tf.keras.preprocessing.sequence.pad_sequences(X_title_test_seq, maxlen=max_len_title, truncating='post')\n",
        "X_abstract_train_pad = tf.keras.preprocessing.sequence.pad_sequences(X_abstract_train_seq, maxlen=max_len_abstract, truncating='post')\n",
        "X_abstract_test_pad = tf.keras.preprocessing.sequence.pad_sequences(X_abstract_test_seq, maxlen=max_len_abstract, truncating='post')"
      ],
      "execution_count": 99,
      "outputs": []
    },
    {
      "cell_type": "markdown",
      "metadata": {
        "id": "rinmPi_Pm_1p"
      },
      "source": [
        "## **Modèle de NN**\n",
        "Dans la première partie, on créé des functions qui vont géner les élements du réseau automatiquement"
      ]
    },
    {
      "cell_type": "code",
      "metadata": {
        "id": "fHtEDt2Kna12"
      },
      "source": [
        ""
      ],
      "execution_count": null,
      "outputs": []
    }
  ]
}