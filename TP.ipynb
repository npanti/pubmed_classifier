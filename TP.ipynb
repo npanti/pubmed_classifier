{
  "nbformat": 4,
  "nbformat_minor": 0,
  "metadata": {
    "colab": {
      "name": "Untitled1.ipynb",
      "provenance": [],
      "authorship_tag": "ABX9TyONlHUso8hfN3hfKZrwxl00",
      "include_colab_link": true
    },
    "kernelspec": {
      "name": "python3",
      "display_name": "Python 3"
    },
    "accelerator": "GPU"
  },
  "cells": [
    {
      "cell_type": "markdown",
      "metadata": {
        "id": "view-in-github",
        "colab_type": "text"
      },
      "source": [
        "<a href=\"https://colab.research.google.com/github/npanti/pubmed_classifier/blob/main/TP.ipynb\" target=\"_parent\"><img src=\"https://colab.research.google.com/assets/colab-badge.svg\" alt=\"Open In Colab\"/></a>"
      ]
    },
    {
      "cell_type": "markdown",
      "metadata": {
        "id": "4_gqyIBlDEvm"
      },
      "source": [
        "# **Setup**\n",
        "Téléchargement du dataset et chargements des packages python\n",
        "\n"
      ]
    },
    {
      "cell_type": "code",
      "metadata": {
        "id": "CjlghOFhBkYS",
        "colab": {
          "base_uri": "https://localhost:8080/"
        },
        "outputId": "231c2c8b-be01-4d2a-b370-5e51eaeb5baf"
      },
      "source": [
        "\n",
        "!git clone https://github.com/aneuraz/intro-keras.git\n",
        "\n",
        "%tensorflow_version 2.x\n",
        "import json \n",
        "import tensorflow as tf\n",
        "import numpy as np\n",
        "from sklearn.model_selection import train_test_split\n",
        "import matplotlib.pyplot as plt\n",
        "\n",
        "# Fonction \n",
        "def plot_history(history):\n",
        "    acc = history.history['accuracy']\n",
        "    val_acc = history.history['val_accuracy']\n",
        "    loss = history.history['loss']\n",
        "    val_loss = history.history['val_loss']\n",
        "    x = range(1, len(acc) + 1)\n",
        "\n",
        "    plt.figure(figsize=(12, 5))\n",
        "    plt.subplot(1, 2, 1)\n",
        "    plt.plot(x, acc, 'b', label='Training acc')\n",
        "    plt.plot(x, val_acc, 'r', label='Validation acc')\n",
        "    plt.title('Training and validation accuracy')\n",
        "    plt.legend()\n",
        "    plt.subplot(1, 2, 2)\n",
        "    plt.plot(x, loss, 'b', label='Training loss')\n",
        "    plt.plot(x, val_loss, 'r', label='Validation loss')\n",
        "    plt.title('Training and validation loss')\n",
        "    plt.legend()\n",
        "\n",
        "def load_glove_embeddings(fp, embedding_dim, include_empty_char=True):\n",
        "    \"\"\"\n",
        "    Loads pre-trained word embeddings (GloVe embeddings)\n",
        "        Inputs: - fp: filepath of pre-trained glove embeddings\n",
        "                - embedding_dim: dimension of each vector embedding\n",
        "                - generate_matrix: whether to generate an embedding matrix\n",
        "        Outputs:\n",
        "                - word2coefs: Dictionary. Word to its corresponding coefficients\n",
        "                - word2index: Dictionary. Word to word-index\n",
        "                - embedding_matrix: Embedding matrix for Keras Embedding layer\n",
        "    \"\"\"\n",
        "    # First, build the \"word2coefs\" and \"word2index\"\n",
        "    word2coefs = {} # word to its corresponding coefficients\n",
        "    word2index = {} # word to word-index\n",
        "    with open(fp) as f:\n",
        "        for idx, line in enumerate(f):\n",
        "            try:\n",
        "                data = [x.strip().lower() for x in line.split()]\n",
        "                word = data[0]\n",
        "                coefs = np.asarray(data[1:embedding_dim+1], dtype='float32')\n",
        "                word2coefs[word] = coefs\n",
        "                if word not in word2index:\n",
        "                    word2index[word] = len(word2index)\n",
        "            except Exception as e:\n",
        "                print('Exception occurred in `load_glove_embeddings`:', e)\n",
        "                continue\n",
        "        # End of for loop.\n",
        "    # End of with open\n",
        "    if include_empty_char:\n",
        "        word2index[''] = len(word2index)\n",
        "    # Second, build the \"embedding_matrix\"\n",
        "    # Words not found in embedding index will be all-zeros. Hence, the \"+1\".\n",
        "    vocab_size = len(word2coefs)+1 if include_empty_char else len(word2coefs)\n",
        "    embedding_matrix = np.zeros((vocab_size, embedding_dim))\n",
        "    for word, idx in word2index.items():\n",
        "        embedding_vec = word2coefs.get(word)\n",
        "        if embedding_vec is not None and embedding_vec.shape[0]==embedding_dim:\n",
        "            embedding_matrix[idx] = np.asarray(embedding_vec)\n",
        "    # return word2coefs, word2index, embedding_matrix\n",
        "    return word2index, np.asarray(embedding_matrix)"
      ],
      "execution_count": 7,
      "outputs": [
        {
          "output_type": "stream",
          "text": [
            "fatal: destination path 'intro-keras' already exists and is not an empty directory.\n"
          ],
          "name": "stdout"
        }
      ]
    },
    {
      "cell_type": "markdown",
      "metadata": {
        "id": "o8V0XQ-GDwE8"
      },
      "source": [
        "Préparation des données et des variables de training et validation\n",
        "\n",
        "Les données sont structurées de la sorte:\n",
        "\n",
        "\n",
        "```\n",
        "{'Cat_2013': 'C',\n",
        " 'Cat_2014': 'C',\n",
        " 'Cat_2015': 'C',\n",
        " 'Cat_2016': 'C',\n",
        " 'Cat_2017': 'B',\n",
        " 'Disciplines': ['XQ'],\n",
        " 'ESSN': '1873-3557',\n",
        " 'IF_2013': '2.129',\n",
        " 'IF_2014': '2.353',\n",
        " 'IF_2015': '2.653',\n",
        " 'IF_2016': '2.536',\n",
        " 'IF_2017': '2.88',\n",
        " 'ISSN': '1386-1425',\n",
        " 'ISSN_online': '1873-3557',\n",
        " 'ISSN_print': '1386-1425',\n",
        " 'IsoAbbr': 'Spectrochim Acta A Mol Biomol Spectrosc',\n",
        " 'JrId': 20555,\n",
        " 'MedAbbr': 'Spectrochim Acta A Mol Biomol Spectrosc',\n",
        " 'NLMid': '9602533',\n",
        " 'Titre': 'Spectrochim Acta A Mol Biomol Spectrosc',\n",
        " 'abstract': 'In this research, ZnO nanoparticle loaded on activated carbon (ZnO-NPs-AC) was synthesized simply by a low cost and nontoxic procedure. The characterization and identification have been completed by different techniques such as SEM and XRD analysis. A three layer artificial neural network (ANN) model is applicable for accurate prediction of dye removal percentage from aqueous solution by ZnO-NRs-AC following conduction of 270 experimental data. The network was trained using the obtained experimental data at optimum pH with different ZnO-NRs-AC amount (0.005-0.015 g) and 5-40 mg/L of sunset yellow dye over contact time of 0.5-30 min. The ANN model was applied for prediction of the removal percentage of present systems with Levenberg-Marquardt algorithm (LMA), a linear transfer function (purelin) at output layer and a tangent sigmoid transfer function (tansig) in the hidden layer with 6 neurons. The minimum mean squared error (MSE) of 0.0008 and coefficient of determination (R(2)) of 0.998 were found for prediction and modeling of SY removal. The influence of parameters including adsorbent amount, initial dye concentration, pH and contact time on sunset yellow (SY) removal percentage were investigated and optimal experimental conditions were ascertained. Optimal conditions were set as follows: pH, 2.0; 10 min contact time; an adsorbent dose of 0.015 g. Equilibrium data fitted truly with the Langmuir model with maximum adsorption capacity of 142.85 mg/g for 0.005 g adsorbent. The adsorption of sunset yellow followed the pseudo-second-order rate equation.',\n",
        " 'authors': ['Maghsoudi, M',\n",
        "  'Ghaedi, M',\n",
        "  'Zinali, A',\n",
        "  'Ghaedi, A M',\n",
        "  'Habibi, M H'],\n",
        " 'categories': ['SPECTROSCOPY'],\n",
        " 'journal': 'Spectrochimica acta. Part A, Molecular and biomolecular spectroscopy',\n",
        " 'keywords': ['Adsorption',\n",
        "  'Algorithms',\n",
        "  'Azo Compounds',\n",
        "  'Charcoal',\n",
        "  'Coloring Agents',\n",
        "  'Hydrogen-Ion Concentration',\n",
        "  'Kinetics',\n",
        "  'Microscopy, Electron, Scanning',\n",
        "  'Nanotubes',\n",
        "  'Neural Networks (Computer)',\n",
        "  'Time Factors',\n",
        "  'Water Pollutants, Chemical',\n",
        "  'X-Ray Diffraction',\n",
        "  'Zinc Oxide'],\n",
        " 'pmid': '24995412',\n",
        " 'title': 'Artificial neural network (ANN) method for modeling of sunset yellow dye adsorption using zinc oxide nanorods loaded on activated carbon: Kinetic and isotherm study.',\n",
        " 'year': '2015'}\n",
        "```\n",
        "\n"
      ]
    },
    {
      "cell_type": "code",
      "metadata": {
        "id": "ONNLje2pD1oQ"
      },
      "source": [
        "with open('/content/intro-keras/ai_pub_samp.json','r') as f:\n",
        "  data = json.load(f)\n",
        "\n",
        "# Chargement des titres et des abstract et transformation du texte en miniscule\n",
        "X_title = [ x['title'].lower() for x in data ] \n",
        "X_abstract = [ x['abstract'].lower() for x in data ] \n",
        "\n",
        "# Calcul des longeurs max\n",
        "max_len_title = len(max(X_title, key=len))\n",
        "max_len_abstract = len(max(X_abstract, key=len))\n",
        "\n",
        "# Chargmeent des catégories SIGAPS (QUESTION: on travaille sur quelle année?)\n",
        "Y = [ y['categories'] for y in data ]"
      ],
      "execution_count": 8,
      "outputs": []
    },
    {
      "cell_type": "markdown",
      "metadata": {
        "id": "UVHCTClZHXUW"
      },
      "source": [
        "Distribution des catégories\n",
        "On remarque qu'il y a quelques données qui n'ont pas de catégorie assignée. Il faut les retirer des données. Ces entrées ne serve à rien et vont générer de la confusion pour le réseau neuronal."
      ]
    },
    {
      "cell_type": "code",
      "metadata": {
        "colab": {
          "base_uri": "https://localhost:8080/",
          "height": 296
        },
        "id": "k2OPKt2vHcqF",
        "outputId": "be976575-d778-4427-fe52-4203da330274"
      },
      "source": [
        "plt.hist(Y)\n",
        "plt.title('Distribution des catégories SIGAPS')\n",
        "plt.xlabel('Catégories SIGAPS')\n",
        "plt.ylabel('Occurence')\n",
        "plt.show()"
      ],
      "execution_count": 9,
      "outputs": [
        {
          "output_type": "display_data",
          "data": {
            "image/png": "[encoded data removed]",
            "text/plain": [
              "<Figure size 432x288 with 1 Axes>"
            ]
          },
          "metadata": {
            "tags": [],
            "needs_background": "light"
          }
        }
      ]
    },
    {
      "cell_type": "code",
      "metadata": {
        "colab": {
          "base_uri": "https://localhost:8080/",
          "height": 296
        },
        "id": "cJZfL9_4LMVO",
        "outputId": "4601c7a0-42a8-4bc7-c15c-c8e46c65790f"
      },
      "source": [
        "# Suppression des données sans catégorie\n",
        "id_nc = [i for i, x in enumerate(Y) if x == \"NC\"]\n",
        "\n",
        "# La liste est parcourue en sens inverse car si ce n'est pas le cas, l'ordre des données n'est pas préservée.\n",
        "for i in reversed(id_nc):\n",
        "  del X_title[i]\n",
        "  del X_abstract[i]\n",
        "  del Y[i]\n",
        "\n",
        "#Vérifiction \n",
        "plt.hist(Y, align='mid')\n",
        "plt.title('Distribution des catégories SIGAPS')\n",
        "plt.xlabel('Catégories SIGAPS')\n",
        "plt.ylabel('Occurence')\n",
        "plt.show()"
      ],
      "execution_count": 10,
      "outputs": [
        {
          "output_type": "display_data",
          "data": {
            "image/png": "[encoded data removed]",
            "text/plain": [
              "<Figure size 432x288 with 1 Axes>"
            ]
          },
          "metadata": {
            "tags": [],
            "needs_background": "light"
          }
        }
      ]
    },
    {
      "cell_type": "markdown",
      "metadata": {
        "id": "F9RdXHDfPzq4"
      },
      "source": [
        "Diviser les données en set de training, validation et test. Dans ce cas, le set de validation est le même que le set de test.\n",
        "Il y a deux techniques: soit on fait le split soit même ou on le fait aléatoirement avec scikit-learn"
      ]
    },
    {
      "cell_type": "code",
      "metadata": {
        "id": "PWRp4kO6Qfir"
      },
      "source": [
        "# Creation d'un array 2D avec les titres et les abstract (10000x2). Première pour les titres, deuxième pour les abstract.\n",
        "# Cette solution permet de faire le data splitting plus facilement\n",
        "X = np.column_stack((X_title, X_abstract)) \n",
        "\n",
        "# Split des données\n",
        "X_train, X_test, Y_train, Y_test = train_test_split(X,Y, test_size = 0.2, random_state = 21)\n",
        "\n",
        "# Séparation des données\n",
        "X_title_train = X_train[:,0]\n",
        "X_abstract_train = X_train[:,1]\n",
        "X_title_test = X_test[:,0]\n",
        "X_abstract_test = X_test[:,1]"
      ],
      "execution_count": 11,
      "outputs": []
    },
    {
      "cell_type": "code",
      "metadata": {
        "id": "8bfiz0rxgjtX"
      },
      "source": [
        "# Transformer les catégories en numéro\n",
        "cat_to_id = {'<UNK>':0}\n",
        "\n",
        "for cat in Y_train: \n",
        "  if cat not in cat_to_id.keys(): \n",
        "    cat_to_id[cat] = len(cat_to_id)\n",
        "\n",
        "id_to_cat = { v: k for k,v in cat_to_id.items()}\n",
        "# Calcule le nombre de catégories\n",
        "num_cat = len(cat_to_id)\n",
        "\n",
        "def preprocess_Y(Y, cat_to_id): \n",
        "  \"\"\"returns list of cat_ids for Y\n",
        "  \"\"\"\n",
        "  res = []\n",
        "  for ex in Y: \n",
        "    if ex not in cat_to_id.keys(): \n",
        "      res.append(cat_to_id['<UNK>'])\n",
        "    else:\n",
        "      res.append(cat_to_id[ex])\n",
        "  return np.array(res)\n",
        "\n",
        "Y_train_id = preprocess_Y(Y_train, cat_to_id)\n",
        "Y_test_id = preprocess_Y(Y_test, cat_to_id)"
      ],
      "execution_count": 12,
      "outputs": []
    },
    {
      "cell_type": "markdown",
      "metadata": {
        "id": "JrnpZJtmip49"
      },
      "source": [
        "# Neural Network\n",
        "On commence par spécifier les paramètres"
      ]
    },
    {
      "cell_type": "code",
      "metadata": {
        "id": "U7DXCnCJixXx"
      },
      "source": [
        "vocab_size = 10000\n",
        "use_glove = False\n",
        "embedd_model = 'glove.6B.100d.txt'\n",
        "embedd_dim = 300\n",
        "\n",
        "#CNN\n",
        "filters = [128, 128]\n",
        "kernel_size = [2, 3]\n",
        "max_pool = [5, 5]\n",
        "dropout_conv = [0.5, 0.5]\n",
        "\n",
        "#Dense\n",
        "size = [1024, 512]\n",
        "dropout_dense = [0.5, 0.5]\n"
      ],
      "execution_count": 69,
      "outputs": []
    },
    {
      "cell_type": "markdown",
      "metadata": {
        "id": "fyXqaLmght7s"
      },
      "source": [
        "### **Tokenization des entrées**\n",
        "Soit on utilise Tokenizer de Keras ou alors on utilise Glove"
      ]
    },
    {
      "cell_type": "code",
      "metadata": {
        "id": "EeT7a-OXh5Do"
      },
      "source": [
        "if not use_glove:\n",
        "  tokenizer_title = tf.keras.preprocessing.text.Tokenizer(num_words = vocab_size)\n",
        "  tokenizer_abstract = tf.keras.preprocessing.text.Tokenizer(num_words = vocab_size)\n",
        "  # Entrainer le tokenizer sur le train set \n",
        "  tokenizer_title.fit_on_texts(X_title_train)\n",
        "  tokenizer_abstract.fit_on_texts(X_abstract_train)\n",
        "\n",
        "  # Transformer les textes en vecteurs numeriques à l'aide du tokenizer\n",
        "  X_title_train_seq = tokenizer_title.texts_to_sequences(X_title_train)\n",
        "  X_title_test_seq = tokenizer_title.texts_to_sequences(X_title_test)\n",
        "  X_abstract_train_seq = tokenizer_abstract.texts_to_sequences(X_abstract_train)\n",
        "  X_abstract_test_seq = tokenizer_abstract.texts_to_sequences(X_abstract_test)\n",
        "\n",
        "else:\n",
        "  # Charger les embeddings à l'aide de la fonction load_glove_embeddings\n",
        "  word2index, embedding_matrix = load_glove_embeddings(embedd_model, embedd_dim)\n",
        "  # ecrire une fonction de tokenization custom pour preprocesser les textes\n",
        "  import re \n",
        "  def custom_tokenizer(input, word2index):\n",
        "\n",
        "    # Split words\n",
        "    res = []\n",
        "    for t in input:\n",
        "      words = re.findall(r'\\w+', t)\n",
        "      index = []\n",
        "      for i in words:\n",
        "        if i in word2index.keys():\n",
        "          index.append(word2index[i])\n",
        "      res.append(index)\n",
        "\n",
        "    return res\n",
        "\n",
        "  # Encoder les textes avec la fonction custom\n",
        "  X_title_train_seq = custom_tokenizer(X_title_train, word2index)\n",
        "  X_title_test_seq = custom_tokenizer(X_title_test, word2index)\n",
        "  X_abstract_train_seq = custom_tokenizer(X_abstract_train, word2index)\n",
        "  X_abstract_test_seq = custom_tokenizer(X_abstract_test, word2index)\n",
        "\n",
        "# Padding\n",
        "max_len_title = max([len(x) for x in X_title_train_seq])\n",
        "max_len_abstract = max([len(x) for x in X_abstract_train_seq])\n",
        "\n",
        "X_title_train_pad = tf.keras.preprocessing.sequence.pad_sequences(X_title_train_seq, maxlen=max_len_title, truncating='post')\n",
        "X_title_test_pad = tf.keras.preprocessing.sequence.pad_sequences(X_title_test_seq, maxlen=max_len_title, truncating='post')\n",
        "X_abstract_train_pad = tf.keras.preprocessing.sequence.pad_sequences(X_abstract_train_seq, maxlen=max_len_abstract, truncating='post')\n",
        "X_abstract_test_pad = tf.keras.preprocessing.sequence.pad_sequences(X_abstract_test_seq, maxlen=max_len_abstract, truncating='post')"
      ],
      "execution_count": 15,
      "outputs": []
    },
    {
      "cell_type": "markdown",
      "metadata": {
        "id": "rinmPi_Pm_1p"
      },
      "source": [
        "## **Modèle de CNN**\n",
        "Dans la première partie, on créé des functions qui vont géner les élements du réseau automatiquement"
      ]
    },
    {
      "cell_type": "code",
      "metadata": {
        "colab": {
          "base_uri": "https://localhost:8080/",
          "height": 375
        },
        "id": "fHtEDt2Kna12",
        "outputId": "b3a383b2-f936-488e-e365-4dc31a72bd04"
      },
      "source": [
        "def create_seq_conv_layers(model, filters, kernel_size, max_pool,dropout):\n",
        "  for i in range(0,len(filters)):\n",
        "    model.add(tf.keras.layers.Conv1D(filters=filters[i], kernel_size=kernel_size[i], activation='relu'))\n",
        "    model.add(tf.keras.layers.Dropout(dropout[i]))\n",
        "    model.add(tf.keras.layers.MaxPooling1D(max_pool[i]))\n",
        "\n",
        "  return model\n",
        "\n",
        "def create_parallel_conv_layers(model, filters, kernel_size, max_pool, dropout):\n",
        "  conv = []\n",
        "  for i in range(0,len(filters)):\n",
        "    conv.append(tf.keras.Sequential([\n",
        "                 tf.keras.layers.Conv1D(filters=filters[i], kernel_size=kernel_size[i], activation='relu'),\n",
        "                 tf.keras.layers.Dropout(dropout[i]),\n",
        "                 tf.keras.layers.MaxPooling1D(max_pool[i])\n",
        "                ])\n",
        "    )\n",
        "  \n",
        "  return conv\n",
        "\n",
        "def create_dense_layers(model, size, dropout):\n",
        "  for i in range(0,len(size)):\n",
        "    model.add(tf.keras.layers.Dense(size[i]))\n",
        "    model.add(tf.keras.layers.Activation('relu'))\n",
        "    model.add(tf.keras.layers.Dropout(dropout[i]))\n",
        "\n",
        "  return model\n",
        "\n",
        "# Création du CNN\n",
        "model = tf.keras.models.Sequential()\n",
        "model.add(tf.keras.layers.Embedding(vocab_size, \n",
        "                                    embedd_dim, \n",
        "                                    input_length=max_len_abstract))\n",
        "# model = create_seq_conv_layers(model, filters, kernel_size, max_pool, dropout_conv)\n",
        "conv = create_parallel_conv_layers(model, filters, kernel_size, max_pool, dropout_conv)\n",
        "i=0\n",
        "a = tf.keras.layers.Conv1D(filters=filters[i], kernel_size=kernel_size[i], activation='relu')\n",
        "i=1\n",
        "b = tf.keras.layers.Conv1D(filters=filters[i], kernel_size=kernel_size[i], activation='relu')\n",
        "tf.keras.layers.concatenate([a, b])\n",
        "model.add(tf.keras.layers.Flatten())\n",
        "model = create_dense_layers(model, size, dropout_dense)\n",
        "model.add(tf.keras.layers.Dense(num_cat))\n",
        "model.add(tf.keras.layers.Activation('softmax'))\n",
        "\n",
        "model.compile(loss='sparse_categorical_crossentropy', \n",
        "                  optimizer='adam', \n",
        "                  metrics= ['accuracy'])\n",
        "# Afficher le summary du modèle\n",
        "# print(model.summary())\n",
        "# tf.keras.utils.plot_model(model, 'model1.png', show_shapes=True)"
      ],
      "execution_count": 76,
      "outputs": [
        {
          "output_type": "error",
          "ename": "TypeError",
          "evalue": "ignored",
          "traceback": [
            "\u001b[0;31m---------------------------------------------------------------------------\u001b[0m",
            "\u001b[0;31mTypeError\u001b[0m                                 Traceback (most recent call last)",
            "\u001b[0;32m<ipython-input-76-a8dfcc2dc924>\u001b[0m in \u001b[0;36m<module>\u001b[0;34m()\u001b[0m\n\u001b[1;32m     39\u001b[0m \u001b[0mi\u001b[0m\u001b[0;34m=\u001b[0m\u001b[0;36m1\u001b[0m\u001b[0;34m\u001b[0m\u001b[0;34m\u001b[0m\u001b[0m\n\u001b[1;32m     40\u001b[0m \u001b[0mb\u001b[0m \u001b[0;34m=\u001b[0m \u001b[0mtf\u001b[0m\u001b[0;34m.\u001b[0m\u001b[0mkeras\u001b[0m\u001b[0;34m.\u001b[0m\u001b[0mlayers\u001b[0m\u001b[0;34m.\u001b[0m\u001b[0mConv1D\u001b[0m\u001b[0;34m(\u001b[0m\u001b[0mfilters\u001b[0m\u001b[0;34m=\u001b[0m\u001b[0mfilters\u001b[0m\u001b[0;34m[\u001b[0m\u001b[0mi\u001b[0m\u001b[0;34m]\u001b[0m\u001b[0;34m,\u001b[0m \u001b[0mkernel_size\u001b[0m\u001b[0;34m=\u001b[0m\u001b[0mkernel_size\u001b[0m\u001b[0;34m[\u001b[0m\u001b[0mi\u001b[0m\u001b[0;34m]\u001b[0m\u001b[0;34m,\u001b[0m \u001b[0mactivation\u001b[0m\u001b[0;34m=\u001b[0m\u001b[0;34m'relu'\u001b[0m\u001b[0;34m)\u001b[0m\u001b[0;34m\u001b[0m\u001b[0;34m\u001b[0m\u001b[0m\n\u001b[0;32m---> 41\u001b[0;31m \u001b[0mtf\u001b[0m\u001b[0;34m.\u001b[0m\u001b[0mkeras\u001b[0m\u001b[0;34m.\u001b[0m\u001b[0mlayers\u001b[0m\u001b[0;34m.\u001b[0m\u001b[0mconcatenate\u001b[0m\u001b[0;34m(\u001b[0m\u001b[0;34m[\u001b[0m\u001b[0ma\u001b[0m\u001b[0;34m,\u001b[0m \u001b[0mb\u001b[0m\u001b[0;34m]\u001b[0m\u001b[0;34m)\u001b[0m\u001b[0;34m\u001b[0m\u001b[0;34m\u001b[0m\u001b[0m\n\u001b[0m\u001b[1;32m     42\u001b[0m \u001b[0mmodel\u001b[0m\u001b[0;34m.\u001b[0m\u001b[0madd\u001b[0m\u001b[0;34m(\u001b[0m\u001b[0mtf\u001b[0m\u001b[0;34m.\u001b[0m\u001b[0mkeras\u001b[0m\u001b[0;34m.\u001b[0m\u001b[0mlayers\u001b[0m\u001b[0;34m.\u001b[0m\u001b[0mFlatten\u001b[0m\u001b[0;34m(\u001b[0m\u001b[0;34m)\u001b[0m\u001b[0;34m)\u001b[0m\u001b[0;34m\u001b[0m\u001b[0;34m\u001b[0m\u001b[0m\n\u001b[1;32m     43\u001b[0m \u001b[0mmodel\u001b[0m \u001b[0;34m=\u001b[0m \u001b[0mcreate_dense_layers\u001b[0m\u001b[0;34m(\u001b[0m\u001b[0mmodel\u001b[0m\u001b[0;34m,\u001b[0m \u001b[0msize\u001b[0m\u001b[0;34m,\u001b[0m \u001b[0mdropout_dense\u001b[0m\u001b[0;34m)\u001b[0m\u001b[0;34m\u001b[0m\u001b[0;34m\u001b[0m\u001b[0m\n",
            "\u001b[0;32m/usr/local/lib/python3.6/dist-packages/tensorflow/python/keras/layers/merge.py\u001b[0m in \u001b[0;36mconcatenate\u001b[0;34m(inputs, axis, **kwargs)\u001b[0m\n\u001b[1;32m    929\u001b[0m       \u001b[0mA\u001b[0m \u001b[0mtensor\u001b[0m\u001b[0;34m,\u001b[0m \u001b[0mthe\u001b[0m \u001b[0mconcatenation\u001b[0m \u001b[0mof\u001b[0m \u001b[0mthe\u001b[0m \u001b[0minputs\u001b[0m \u001b[0malongside\u001b[0m \u001b[0maxis\u001b[0m\u001b[0;31m \u001b[0m\u001b[0;31m`\u001b[0m\u001b[0maxis\u001b[0m\u001b[0;31m`\u001b[0m\u001b[0;34m.\u001b[0m\u001b[0;34m\u001b[0m\u001b[0;34m\u001b[0m\u001b[0m\n\u001b[1;32m    930\u001b[0m   \"\"\"\n\u001b[0;32m--> 931\u001b[0;31m   \u001b[0;32mreturn\u001b[0m \u001b[0mConcatenate\u001b[0m\u001b[0;34m(\u001b[0m\u001b[0maxis\u001b[0m\u001b[0;34m=\u001b[0m\u001b[0maxis\u001b[0m\u001b[0;34m,\u001b[0m \u001b[0;34m**\u001b[0m\u001b[0mkwargs\u001b[0m\u001b[0;34m)\u001b[0m\u001b[0;34m(\u001b[0m\u001b[0minputs\u001b[0m\u001b[0;34m)\u001b[0m\u001b[0;34m\u001b[0m\u001b[0;34m\u001b[0m\u001b[0m\n\u001b[0m\u001b[1;32m    932\u001b[0m \u001b[0;34m\u001b[0m\u001b[0m\n\u001b[1;32m    933\u001b[0m \u001b[0;34m\u001b[0m\u001b[0m\n",
            "\u001b[0;32m/usr/local/lib/python3.6/dist-packages/tensorflow/python/keras/engine/base_layer.py\u001b[0m in \u001b[0;36m__call__\u001b[0;34m(self, *args, **kwargs)\u001b[0m\n\u001b[1;32m    980\u001b[0m       \u001b[0;32mwith\u001b[0m \u001b[0mops\u001b[0m\u001b[0;34m.\u001b[0m\u001b[0mname_scope_v2\u001b[0m\u001b[0;34m(\u001b[0m\u001b[0mname_scope\u001b[0m\u001b[0;34m)\u001b[0m\u001b[0;34m:\u001b[0m\u001b[0;34m\u001b[0m\u001b[0;34m\u001b[0m\u001b[0m\n\u001b[1;32m    981\u001b[0m         \u001b[0;32mif\u001b[0m \u001b[0;32mnot\u001b[0m \u001b[0mself\u001b[0m\u001b[0;34m.\u001b[0m\u001b[0mbuilt\u001b[0m\u001b[0;34m:\u001b[0m\u001b[0;34m\u001b[0m\u001b[0;34m\u001b[0m\u001b[0m\n\u001b[0;32m--> 982\u001b[0;31m           \u001b[0mself\u001b[0m\u001b[0;34m.\u001b[0m\u001b[0m_maybe_build\u001b[0m\u001b[0;34m(\u001b[0m\u001b[0minputs\u001b[0m\u001b[0;34m)\u001b[0m\u001b[0;34m\u001b[0m\u001b[0;34m\u001b[0m\u001b[0m\n\u001b[0m\u001b[1;32m    983\u001b[0m \u001b[0;34m\u001b[0m\u001b[0m\n\u001b[1;32m    984\u001b[0m         \u001b[0;32mwith\u001b[0m \u001b[0mops\u001b[0m\u001b[0;34m.\u001b[0m\u001b[0menable_auto_cast_variables\u001b[0m\u001b[0;34m(\u001b[0m\u001b[0mself\u001b[0m\u001b[0;34m.\u001b[0m\u001b[0m_compute_dtype_object\u001b[0m\u001b[0;34m)\u001b[0m\u001b[0;34m:\u001b[0m\u001b[0;34m\u001b[0m\u001b[0;34m\u001b[0m\u001b[0m\n",
            "\u001b[0;32m/usr/local/lib/python3.6/dist-packages/tensorflow/python/keras/engine/base_layer.py\u001b[0m in \u001b[0;36m_maybe_build\u001b[0;34m(self, inputs)\u001b[0m\n\u001b[1;32m   2641\u001b[0m         \u001b[0;31m# operations.\u001b[0m\u001b[0;34m\u001b[0m\u001b[0;34m\u001b[0m\u001b[0;34m\u001b[0m\u001b[0m\n\u001b[1;32m   2642\u001b[0m         \u001b[0;32mwith\u001b[0m \u001b[0mtf_utils\u001b[0m\u001b[0;34m.\u001b[0m\u001b[0mmaybe_init_scope\u001b[0m\u001b[0;34m(\u001b[0m\u001b[0mself\u001b[0m\u001b[0;34m)\u001b[0m\u001b[0;34m:\u001b[0m\u001b[0;34m\u001b[0m\u001b[0;34m\u001b[0m\u001b[0m\n\u001b[0;32m-> 2643\u001b[0;31m           \u001b[0mself\u001b[0m\u001b[0;34m.\u001b[0m\u001b[0mbuild\u001b[0m\u001b[0;34m(\u001b[0m\u001b[0minput_shapes\u001b[0m\u001b[0;34m)\u001b[0m  \u001b[0;31m# pylint:disable=not-callable\u001b[0m\u001b[0;34m\u001b[0m\u001b[0;34m\u001b[0m\u001b[0m\n\u001b[0m\u001b[1;32m   2644\u001b[0m       \u001b[0;31m# We must set also ensure that the layer is marked as built, and the build\u001b[0m\u001b[0;34m\u001b[0m\u001b[0;34m\u001b[0m\u001b[0;34m\u001b[0m\u001b[0m\n\u001b[1;32m   2645\u001b[0m       \u001b[0;31m# shape is stored since user defined build functions may not be calling\u001b[0m\u001b[0;34m\u001b[0m\u001b[0;34m\u001b[0m\u001b[0;34m\u001b[0m\u001b[0m\n",
            "\u001b[0;32m/usr/local/lib/python3.6/dist-packages/tensorflow/python/keras/utils/tf_utils.py\u001b[0m in \u001b[0;36mwrapper\u001b[0;34m(instance, input_shape)\u001b[0m\n\u001b[1;32m    321\u001b[0m     \u001b[0;32mif\u001b[0m \u001b[0minput_shape\u001b[0m \u001b[0;32mis\u001b[0m \u001b[0;32mnot\u001b[0m \u001b[0;32mNone\u001b[0m\u001b[0;34m:\u001b[0m\u001b[0;34m\u001b[0m\u001b[0;34m\u001b[0m\u001b[0m\n\u001b[1;32m    322\u001b[0m       \u001b[0minput_shape\u001b[0m \u001b[0;34m=\u001b[0m \u001b[0mconvert_shapes\u001b[0m\u001b[0;34m(\u001b[0m\u001b[0minput_shape\u001b[0m\u001b[0;34m,\u001b[0m \u001b[0mto_tuples\u001b[0m\u001b[0;34m=\u001b[0m\u001b[0;32mTrue\u001b[0m\u001b[0;34m)\u001b[0m\u001b[0;34m\u001b[0m\u001b[0;34m\u001b[0m\u001b[0m\n\u001b[0;32m--> 323\u001b[0;31m     \u001b[0moutput_shape\u001b[0m \u001b[0;34m=\u001b[0m \u001b[0mfn\u001b[0m\u001b[0;34m(\u001b[0m\u001b[0minstance\u001b[0m\u001b[0;34m,\u001b[0m \u001b[0minput_shape\u001b[0m\u001b[0;34m)\u001b[0m\u001b[0;34m\u001b[0m\u001b[0;34m\u001b[0m\u001b[0m\n\u001b[0m\u001b[1;32m    324\u001b[0m     \u001b[0;31m# Return shapes from `fn` as TensorShapes.\u001b[0m\u001b[0;34m\u001b[0m\u001b[0;34m\u001b[0m\u001b[0;34m\u001b[0m\u001b[0m\n\u001b[1;32m    325\u001b[0m     \u001b[0;32mif\u001b[0m \u001b[0moutput_shape\u001b[0m \u001b[0;32mis\u001b[0m \u001b[0;32mnot\u001b[0m \u001b[0;32mNone\u001b[0m\u001b[0;34m:\u001b[0m\u001b[0;34m\u001b[0m\u001b[0;34m\u001b[0m\u001b[0m\n",
            "\u001b[0;32m/usr/local/lib/python3.6/dist-packages/tensorflow/python/keras/layers/merge.py\u001b[0m in \u001b[0;36mbuild\u001b[0;34m(self, input_shape)\u001b[0m\n\u001b[1;32m    490\u001b[0m   \u001b[0;32mdef\u001b[0m \u001b[0mbuild\u001b[0m\u001b[0;34m(\u001b[0m\u001b[0mself\u001b[0m\u001b[0;34m,\u001b[0m \u001b[0minput_shape\u001b[0m\u001b[0;34m)\u001b[0m\u001b[0;34m:\u001b[0m\u001b[0;34m\u001b[0m\u001b[0;34m\u001b[0m\u001b[0m\n\u001b[1;32m    491\u001b[0m     \u001b[0;31m# Used purely for shape validation.\u001b[0m\u001b[0;34m\u001b[0m\u001b[0;34m\u001b[0m\u001b[0;34m\u001b[0m\u001b[0m\n\u001b[0;32m--> 492\u001b[0;31m     \u001b[0;32mif\u001b[0m \u001b[0;32mnot\u001b[0m \u001b[0misinstance\u001b[0m\u001b[0;34m(\u001b[0m\u001b[0minput_shape\u001b[0m\u001b[0;34m[\u001b[0m\u001b[0;36m0\u001b[0m\u001b[0;34m]\u001b[0m\u001b[0;34m,\u001b[0m \u001b[0mtuple\u001b[0m\u001b[0;34m)\u001b[0m \u001b[0;32mor\u001b[0m \u001b[0mlen\u001b[0m\u001b[0;34m(\u001b[0m\u001b[0minput_shape\u001b[0m\u001b[0;34m)\u001b[0m \u001b[0;34m<\u001b[0m \u001b[0;36m2\u001b[0m\u001b[0;34m:\u001b[0m\u001b[0;34m\u001b[0m\u001b[0;34m\u001b[0m\u001b[0m\n\u001b[0m\u001b[1;32m    493\u001b[0m       raise ValueError('A `Concatenate` layer should be called '\n\u001b[1;32m    494\u001b[0m                        'on a list of at least 2 inputs')\n",
            "\u001b[0;31mTypeError\u001b[0m: 'NoneType' object is not subscriptable"
          ]
        }
      ]
    },
    {
      "cell_type": "markdown",
      "metadata": {
        "id": "FsRoQI9yw6g9"
      },
      "source": [
        "## Entrainement"
      ]
    },
    {
      "cell_type": "code",
      "metadata": {
        "id": "vp5MLlD_w9tK",
        "outputId": "55b27689-5bbd-4f8b-fb3f-5d19468c1c43",
        "colab": {
          "base_uri": "https://localhost:8080/",
          "height": 730
        }
      },
      "source": [
        "X_train_pad = X_abstract_train_pad\n",
        "X_test_pad = X_abstract_test_pad\n",
        "\n",
        "\n",
        "history = model.fit(X_train_pad, Y_train_id,\n",
        "                    epochs=10,\n",
        "                    verbose=True,\n",
        "                    validation_data=(X_test_pad, Y_test_id),\n",
        "                    batch_size=40)\n",
        "\n",
        "loss, accuracy = model.evaluate(X_train_pad, Y_train_id, verbose=False)\n",
        "print(\"Training Accuracy: {:.4f}\".format(accuracy))\n",
        "loss, accuracy = model.evaluate(X_test_pad, Y_test_id, verbose=False)\n",
        "print(\"Testing Accuracy:  {:.4f}\".format(accuracy))\n",
        "plot_history(history)"
      ],
      "execution_count": 41,
      "outputs": [
        {
          "output_type": "stream",
          "text": [
            "Epoch 1/10\n",
            "196/196 [==============================] - 25s 127ms/step - loss: 1.5669 - accuracy: 0.2771 - val_loss: 1.5057 - val_accuracy: 0.3349\n",
            "Epoch 2/10\n",
            "196/196 [==============================] - 24s 123ms/step - loss: 1.4741 - accuracy: 0.3454 - val_loss: 1.4820 - val_accuracy: 0.3528\n",
            "Epoch 3/10\n",
            "196/196 [==============================] - 24s 122ms/step - loss: 1.3546 - accuracy: 0.4081 - val_loss: 1.4892 - val_accuracy: 0.3507\n",
            "Epoch 4/10\n",
            "196/196 [==============================] - 24s 123ms/step - loss: 1.2102 - accuracy: 0.4660 - val_loss: 1.5867 - val_accuracy: 0.3446\n",
            "Epoch 5/10\n",
            "196/196 [==============================] - 24s 123ms/step - loss: 1.0468 - accuracy: 0.5495 - val_loss: 1.9376 - val_accuracy: 0.3313\n",
            "Epoch 6/10\n",
            "196/196 [==============================] - 24s 122ms/step - loss: 0.8709 - accuracy: 0.6350 - val_loss: 1.9875 - val_accuracy: 0.3446\n",
            "Epoch 7/10\n",
            "196/196 [==============================] - 24s 122ms/step - loss: 0.7104 - accuracy: 0.7091 - val_loss: 2.2878 - val_accuracy: 0.3190\n",
            "Epoch 8/10\n",
            "196/196 [==============================] - 24s 123ms/step - loss: 0.6234 - accuracy: 0.7557 - val_loss: 2.2582 - val_accuracy: 0.3292\n",
            "Epoch 9/10\n",
            "196/196 [==============================] - 24s 122ms/step - loss: 0.5244 - accuracy: 0.7989 - val_loss: 2.4456 - val_accuracy: 0.3221\n",
            "Epoch 10/10\n",
            "196/196 [==============================] - 24s 122ms/step - loss: 0.4436 - accuracy: 0.8307 - val_loss: 2.9287 - val_accuracy: 0.3072\n",
            "Training Accuracy: 0.8607\n",
            "Testing Accuracy:  0.3072\n"
          ],
          "name": "stdout"
        },
        {
          "output_type": "display_data",
          "data": {
            "image/png": "[encoded data removed]",
            "text/plain": [
              "<Figure size 864x360 with 2 Axes>"
            ]
          },
          "metadata": {
            "tags": [],
            "needs_background": "light"
          }
        }
      ]
    }
  ]
}